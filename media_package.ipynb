{
 "cells": [
  {
   "cell_type": "code",
   "execution_count": 1,
   "metadata": {},
   "outputs": [],
   "source": [
    "import numpy as np\n",
    "import pandas as pd\n",
    "import os\n",
    "from datetime import datetime\n",
    "path = 'C:\\\\Users\\\\youlanad\\\\Desktop\\\\media_package'\n",
    "os.chdir(path)                        \n",
    "#修改文件读取目录\n",
    "df =pd.read_csv('media_package.csv') \n",
    "#导入文件\n",
    "df = df.rename(columns =  {'settled_time':'date'})\n",
    "df['date'] = pd.to_datetime(df['date']) \n",
    "# 将settled_time重命名为date\n",
    "# df['date']=[y.strftime('%Y-%m-%d') for y in [datetime.strptime(x,'%Y/%m/%d %H:%M') for x in df['date']]]\n",
    "df['ctr'] = df['click']/df['pv']  \n",
    "# 新增ctr列\n",
    "df2 = df.query(\"ad_format==7\")  \n",
    "#将ad_format=7的行数据筛选出来\n",
    "df3 = df2.query('ctr>=0.007')  \n",
    "#筛选出 ctr>=0.007的数据\n",
    "adx = pd.read_excel('adxid-name.xlsx')\n",
    "df4 = df3.merge(right=adx,how='left')  \n",
    "#将adx_id匹配成adx_name\n",
    "df5 = df4.loc[:,['size','adx_name','app_id','app_name']] \n",
    "#筛选出想要的列\n",
    "df6 = df5.drop_duplicates() \n",
    "#去重\n",
    "df6.to_excel('mob_banner.xlsx',index=False)  \n",
    "#将数据框输出为Excel文档 \n"
   ]
  },
  {
   "cell_type": "code",
   "execution_count": 2,
   "metadata": {},
   "outputs": [],
   "source": [
    "import numpy as np\n",
    "import pandas as pd\n",
    "import os\n",
    "from datetime import datetime\n",
    "path = 'C:\\\\Users\\\\youlanad\\\\Desktop\\\\media_package'\n",
    "os.chdir(path)                        \n",
    "#修改文件读取目录\n",
    "df =pd.read_csv('media_package.csv') \n",
    "#导入文件\n",
    "df = df.rename(columns =  {'settled_time':'date'})\n",
    "df['date'] = pd.to_datetime(df['date']) \n",
    "# 将settled_time重命名为date\n",
    "# df['date']=[y.strftime('%Y-%m-%d') for y in [datetime.strptime(x,'%Y/%m/%d %H:%M') for x in df['date']]]\n",
    "df['ctr'] = df['click']/df['pv']  \n",
    "# 新增ctr列\n",
    "df2 = df.query(\"ad_format==8\")  \n",
    "#将ad_format=7的行数据筛选出来\n",
    "df3 = df2.query('ctr>=0.03')  \n",
    "#筛选出 ctr>=0.007的数据\n",
    "adx = pd.read_excel('adxid-name.xlsx')\n",
    "df4 = df3.merge(right=adx,how='left')  \n",
    "#将adx_id匹配成adx_name\n",
    "df5 = df4.loc[:,['size','adx_name','app_id','app_name']] \n",
    "#筛选出想要的列\n",
    "df6 = df5.drop_duplicates() \n",
    "#去重\n",
    "df6.to_excel('mob_开屏.xlsx',index=False)  \n",
    "#将数据框输出为Excel文档 "
   ]
  },
  {
   "cell_type": "code",
   "execution_count": null,
   "metadata": {},
   "outputs": [],
   "source": []
  }
 ],
 "metadata": {
  "kernelspec": {
   "display_name": "Python 3",
   "language": "python",
   "name": "python3"
  },
  "language_info": {
   "codemirror_mode": {
    "name": "ipython",
    "version": 3
   },
   "file_extension": ".py",
   "mimetype": "text/x-python",
   "name": "python",
   "nbconvert_exporter": "python",
   "pygments_lexer": "ipython3",
   "version": "3.7.1"
  }
 },
 "nbformat": 4,
 "nbformat_minor": 2
}
